{
 "cells": [
  {
   "cell_type": "code",
   "execution_count": 7,
   "metadata": {},
   "outputs": [
    {
     "name": "stdout",
     "output_type": "stream",
     "text": [
      "                                             weather      base  visibility  \\\n",
      "0  [{'id': 801, 'main': 'Clouds', 'description': ...  stations       10000   \n",
      "\n",
      "           dt  timezone       id   name  cod  coord.lon  coord.lat  main.temp  \\\n",
      "0  1690402374     32400  1850147  Tokyo  200   139.6917    35.6895     300.95   \n",
      "\n",
      "   main.feels_like  main.temp_min  main.temp_max  main.pressure  \\\n",
      "0           304.47         298.01         301.84           1013   \n",
      "\n",
      "   main.humidity  wind.speed  wind.deg  clouds.all  sys.type   sys.id  \\\n",
      "0             78        3.09       180          20         2  2001249   \n",
      "\n",
      "  sys.country  sys.sunrise  sys.sunset  \n",
      "0          JP   1690400677  1690451436  \n"
     ]
    }
   ],
   "source": [
    "import pandas as pd\n",
    "\n",
    "# Ruta del archivo CSV que se generó anteriormente\n",
    "file_path = \"data_analytics/openweather/tiempodiario_20230726.csv\"  # Reemplaza con la ruta correcta\n",
    "\n",
    "# Leer el archivo CSV y cargar los datos en un DataFrame\n",
    "df = pd.read_csv(file_path)\n",
    "\n",
    "# Mostrar las primeras filas del DataFrame de forma legible\n",
    "pd.set_option('display.max_rows', None)  # Muestra todas las filas del DataFrame\n",
    "pd.set_option('display.max_columns', None)  # Muestra todas las columnas del DataFrame\n",
    "print(df)"
   ]
  }
 ],
 "metadata": {
  "kernelspec": {
   "display_name": "venv",
   "language": "python",
   "name": "python3"
  },
  "language_info": {
   "codemirror_mode": {
    "name": "ipython",
    "version": 3
   },
   "file_extension": ".py",
   "mimetype": "text/x-python",
   "name": "python",
   "nbconvert_exporter": "python",
   "pygments_lexer": "ipython3",
   "version": "3.11.4"
  },
  "orig_nbformat": 4
 },
 "nbformat": 4,
 "nbformat_minor": 2
}
